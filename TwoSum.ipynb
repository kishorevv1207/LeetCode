{
 "cells": [
  {
   "cell_type": "markdown",
   "id": "4e4893e3",
   "metadata": {},
   "source": [
    "Example 1:\n",
    "\n",
    "Input: nums = [2,7,11,15], target = 9\n",
    "Output: [0,1]\n",
    "Explanation: Because nums[0] + nums[1] == 9, we return [0, 1].\n",
    "Example 2:\n",
    "\n",
    "Input: nums = [3,2,4], target = 6\n",
    "Output: [1,2]\n",
    "Example 3:\n",
    "\n",
    "Input: nums = [3,3], target = 6\n",
    "Output: [0,1]\n"
   ]
  },
  {
   "cell_type": "code",
   "execution_count": 27,
   "id": "524d9b37",
   "metadata": {},
   "outputs": [
    {
     "name": "stdout",
     "output_type": "stream",
     "text": [
      "[0, 1]\n"
     ]
    }
   ],
   "source": [
    "#Brute Force\n",
    "\n",
    "nums = [2,7,11,15]\n",
    "target = 9\n",
    "index = []\n",
    "\n",
    "for i in range(0,len(nums)-1):\n",
    "    value1=int(nums[i])\n",
    "    for j in range(i+1, len(nums)):\n",
    "        value2=int(nums[j])\n",
    "        if value1+value2==target:\n",
    "            index.append(i)\n",
    "            index.append(j)\n",
    "            break\n",
    "\n",
    "print(index)\n"
   ]
  },
  {
   "cell_type": "markdown",
   "id": "810964f3",
   "metadata": {},
   "source": [
    "**Brute-Force Solution is Inefficient**\n",
    "\n",
    "The brute-force solution checks every possible pair of numbers, leading to:\n",
    "\n",
    "* Time Complexity: O(n²), where n is the length of the array, due to nested loops iterating over all pairs.\n",
    "* Space Complexity: O(1), as only a constant amount of extra space is used.\n",
    "* Performance Issue: The quadratic time complexity makes it slow for large arrays, as it doesn't leverage any data structures to reduce the number of comparisons."
   ]
  },
  {
   "cell_type": "code",
   "execution_count": 28,
   "id": "735110fc",
   "metadata": {},
   "outputs": [
    {
     "name": "stdout",
     "output_type": "stream",
     "text": [
      "{11: 0}\n",
      "{11: 0, 15: 1}\n",
      "{11: 0, 15: 1, 2: 2}\n",
      "{11: 0, 15: 1, 2: 2, 7: 3}\n",
      "-2 y\n",
      "move next\n",
      "-6 y\n",
      "move next\n",
      "7 y\n",
      "3 h[y]\n",
      "[2, 3]\n"
     ]
    }
   ],
   "source": [
    "class Solution:\n",
    "    def twoSum(self, nums: list[int], target: int) -> list[int]:\n",
    "        h = {}\n",
    "        for i in range(len(nums)):              #this loop coverts list to dic\n",
    "            h[nums[i]] = i\n",
    "            print(h)\n",
    "\n",
    "        for i in range(len(nums)):              #find pair\n",
    "            y = target - nums[i]                # y = target 9 here -[11,15,2,7]\n",
    "            print(y, \"y\")                       # y = 9-11 , 9-15, 9-2, 9-7 loops\n",
    "\n",
    "            if y in h and h[y] != i:    #Edge Handling -> h[y] != i avoids using the same index twice\n",
    "                print(h[y], \"h[y]\")\n",
    "                return [i, h[y]]\n",
    "            else:\n",
    "                print('move next')\n",
    "            \n",
    "obj = Solution()\n",
    "print(obj.twoSum(nums=[11,15,2,7],target=9))"
   ]
  },
  {
   "cell_type": "markdown",
   "id": "89242a99",
   "metadata": {},
   "source": [
    "**Optimal Solution:**\n",
    "\n",
    "Metric -> Value\n",
    "\n",
    "Time Complexity -> ( O(n) )\n",
    "\n",
    "Space Complexity -> ( O(n) )\n",
    "\n",
    "Approach -> Hash map for fast complement lookup\n",
    "\n",
    "Edge Handling -> h[y] != i avoids using the same index twice\n"
   ]
  },
  {
   "cell_type": "code",
   "execution_count": 29,
   "id": "0a28b381",
   "metadata": {},
   "outputs": [],
   "source": [
    "#leetcode vresion \n",
    "\n",
    "class Solution:\n",
    "    def twoSum(self, nums: list[int], target: int) -> list[int]:\n",
    "        h = {}\n",
    "        for i in range(len(nums)):\n",
    "            h[nums[i]] = i\n",
    "\n",
    "        for i in range(len(nums)):\n",
    "            y = target - nums[i]\n",
    "\n",
    "            if y in h and h[y] != i:\n",
    "                return [i, h[y]]\n"
   ]
  }
 ],
 "metadata": {
  "kernelspec": {
   "display_name": "Python 3",
   "language": "python",
   "name": "python3"
  },
  "language_info": {
   "codemirror_mode": {
    "name": "ipython",
    "version": 3
   },
   "file_extension": ".py",
   "mimetype": "text/x-python",
   "name": "python",
   "nbconvert_exporter": "python",
   "pygments_lexer": "ipython3",
   "version": "3.13.7"
  }
 },
 "nbformat": 4,
 "nbformat_minor": 5
}
